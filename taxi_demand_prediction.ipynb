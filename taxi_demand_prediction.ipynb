{
 "cells": [
  {
   "cell_type": "code",
   "execution_count": 12,
   "id": "dcafd800",
   "metadata": {},
   "outputs": [
    {
     "name": "stdout",
     "output_type": "stream",
     "text": [
      "Index(['VendorID', 'tpep_pickup_datetime', 'tpep_dropoff_datetime',\n",
      "       'passenger_count', 'trip_distance', 'pickup_longitude',\n",
      "       'pickup_latitude', 'RateCodeID', 'store_and_fwd_flag',\n",
      "       'dropoff_longitude', 'dropoff_latitude', 'payment_type', 'fare_amount',\n",
      "       'extra', 'mta_tax', 'tip_amount', 'tolls_amount',\n",
      "       'improvement_surcharge', 'total_amount'],\n",
      "      dtype='object')\n",
      "\n",
      "Model Performance Metrics:\n",
      "Random Forest -> MSE: 20977396.708558526, MAE: 2853.869679189938, R²: 0.7199108350229466\n",
      "Gradient Boosting -> MSE: 19839517.058945052, MAE: 3081.5908158807833, R²: 0.7351037479154501\n",
      "XGBoost -> MSE: 22220001.409389045, MAE: 2952.3006018312185, R²: 0.7033196687698364\n"
     ]
    }
   ],
   "source": [
    "import pandas as pd\n",
    "from sklearn.model_selection import train_test_split\n",
    "from sklearn.ensemble import RandomForestRegressor, GradientBoostingRegressor\n",
    "from sklearn.metrics import mean_squared_error, mean_absolute_error, r2_score\n",
    "import xgboost as xgb\n",
    "\n",
    "# Load dataset\n",
    "df = pd.read_csv('yellow_tripdata_2015-01.csv')\n",
    "\n",
    "# Display column names\n",
    "print(df.columns)\n",
    "print()\n",
    "\n",
    "# Preprocessing\n",
    "df.dropna(inplace=True)\n",
    "df.drop_duplicates(inplace=True)\n",
    "df['tpep_pickup_datetime'] = pd.to_datetime(df['tpep_pickup_datetime'], errors='coerce')\n",
    "df['tpep_dropoff_datetime'] = pd.to_datetime(df['tpep_dropoff_datetime'], errors='coerce')\n",
    "\n",
    "# Add additional features to the original dataframe\n",
    "df['pickup_hour'] = df['tpep_pickup_datetime'].dt.hour\n",
    "df['pickup_date'] = df['tpep_pickup_datetime'].dt.date\n",
    "df['pickup_day'] = df['tpep_pickup_datetime'].dt.dayofweek  # Monday=0, Sunday=6\n",
    "df['is_weekend'] = df['pickup_day'].apply(lambda x: 1 if x >= 5 else 0)  # Weekend or not\n",
    "\n",
    "# Group by date and hour to compute demand\n",
    "demand_df = df.groupby(['pickup_date', 'pickup_hour', 'pickup_day', 'is_weekend']).size().reset_index(name='ride_count')\n",
    "\n",
    "# Prepare features and target\n",
    "features = ['pickup_hour', 'pickup_day', 'is_weekend']\n",
    "X = demand_df[features]\n",
    "y = demand_df['ride_count']\n",
    "\n",
    "# Split the dataset\n",
    "X_train, X_test, y_train, y_test = train_test_split(X, y, test_size=0.2, random_state=42)\n",
    "\n",
    "# Model Training and Evaluation\n",
    "def train_and_evaluate_model(model, X_train, X_test, y_train, y_test):\n",
    "    model.fit(X_train, y_train)\n",
    "    y_pred = model.predict(X_test)\n",
    "    mse = mean_squared_error(y_test, y_pred)\n",
    "    mae = mean_absolute_error(y_test, y_pred)\n",
    "    r2 = r2_score(y_test, y_pred)\n",
    "    return mse, mae, r2\n",
    "\n",
    "# Random Forest Model\n",
    "rf_model = RandomForestRegressor(random_state=42)\n",
    "rf_mse, rf_mae, rf_r2 = train_and_evaluate_model(rf_model, X_train, X_test, y_train, y_test)\n",
    "\n",
    "# Gradient Boosting Model\n",
    "gb_model = GradientBoostingRegressor(random_state=42)\n",
    "gb_mse, gb_mae, gb_r2 = train_and_evaluate_model(gb_model, X_train, X_test, y_train, y_test)\n",
    "\n",
    "# XGBoost Model\n",
    "xgb_model = xgb.XGBRegressor(random_state=42)\n",
    "xgb_mse, xgb_mae, xgb_r2 = train_and_evaluate_model(xgb_model, X_train, X_test, y_train, y_test)\n",
    "\n",
    "# Print Metrics\n",
    "print(\"Model Performance Metrics:\")\n",
    "print(f\"Random Forest -> MSE: {rf_mse}, MAE: {rf_mae}, R²: {rf_r2}\")\n",
    "print(f\"Gradient Boosting -> MSE: {gb_mse}, MAE: {gb_mae}, R²: {gb_r2}\")\n",
    "print(f\"XGBoost -> MSE: {xgb_mse}, MAE: {xgb_mae}, R²: {xgb_r2}\")\n"
   ]
  },
  {
   "cell_type": "code",
   "execution_count": 26,
   "id": "c2d9f702",
   "metadata": {},
   "outputs": [
    {
     "name": "stdout",
     "output_type": "stream",
     "text": [
      "Decision Tree -> MSE: 22269423.649515294, MAE: 2956.8780760626396, R²: 0.7026597551083071\n"
     ]
    }
   ],
   "source": [
    "from sklearn.tree import DecisionTreeRegressor\n",
    "\n",
    "# Decision Tree Model\n",
    "dt_model = DecisionTreeRegressor(criterion='squared_error', max_depth=None, \n",
    "                                 min_samples_split=2, min_samples_leaf=1, max_leaf_nodes=None)\n",
    "dt_mse, dt_mae, dt_r2 = train_and_evaluate_model(dt_model, X_train, X_test, y_train, y_test)\n",
    "\n",
    "# Print Metrics for Decision Tree\n",
    "print(f\"Decision Tree -> MSE: {dt_mse}, MAE: {dt_mae}, R²: {dt_r2}\")\n"
   ]
  },
  {
   "cell_type": "code",
   "execution_count": null,
   "id": "cea17a44",
   "metadata": {},
   "outputs": [],
   "source": [
    "rf_model = RandomForestRegressor(n_estimators=100, criterion='squared_error', max_depth=None, \n",
    "                                 min_samples_split=2, min_samples_leaf=1, max_leaf_nodes=None, bootstrap=True)\n",
    "rf_mse, rf_mae, rf_r2 = train_and_evaluate_model(rf_model, X_train, X_test, y_train, y_test)\n",
    "print(f\"Random Forest -> MSE: {rf_mse}, MAE: {rf_mae}, R²: {rf_r2}\")"
   ]
  },
  {
   "cell_type": "code",
   "execution_count": 24,
   "id": "bb8e81e9",
   "metadata": {},
   "outputs": [
    {
     "name": "stdout",
     "output_type": "stream",
     "text": [
      "Gradient Boosting -> MSE: 19839517.05894505, MAE: 3081.5908158807833, R²: 0.7351037479154502\n"
     ]
    }
   ],
   "source": [
    "\n",
    "# Gradient Boosting Model\n",
    "gb_model = GradientBoostingRegressor(loss='squared_error', learning_rate=0.1, n_estimators=100, subsample=1.0)\n",
    "gb_mse, gb_mae, gb_r2 = train_and_evaluate_model(gb_model, X_train, X_test, y_train, y_test)\n",
    "print(f\"Gradient Boosting -> MSE: {gb_mse}, MAE: {gb_mae}, R²: {gb_r2}\")"
   ]
  },
  {
   "cell_type": "code",
   "execution_count": null,
   "id": "2aa2d19e",
   "metadata": {},
   "outputs": [],
   "source": []
  }
 ],
 "metadata": {
  "kernelspec": {
   "display_name": "Python 3 (ipykernel)",
   "language": "python",
   "name": "python3"
  },
  "language_info": {
   "codemirror_mode": {
    "name": "ipython",
    "version": 3
   },
   "file_extension": ".py",
   "mimetype": "text/x-python",
   "name": "python",
   "nbconvert_exporter": "python",
   "pygments_lexer": "ipython3",
   "version": "3.11.5"
  }
 },
 "nbformat": 4,
 "nbformat_minor": 5
}
